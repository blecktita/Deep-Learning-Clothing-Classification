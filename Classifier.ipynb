{
 "cells": [
  {
   "cell_type": "markdown",
   "metadata": {},
   "source": [
    "![clothing_classification](logo/wallpaper.png)"
   ]
  },
  {
   "cell_type": "code",
   "execution_count": null,
   "metadata": {},
   "outputs": [],
   "source": [
    "import numpy as np\n",
    "import torch\n",
    "import torch.nn as nn\n",
    "import torch.optim as optim\n",
    "from torch.utils.data import Dataset, DataLoader\n",
    "from torchmetrics import Accuracy, Precision, Recall\n",
    "from torchvision import datasets\n",
    "import torchvision.transforms as transforms\n",
    "from sklearn.metrics import confusion_matrix\n",
    "import seaborn as sns\n",
    "import tqdm\n",
    "import matplotlib.pyplot as plt\n",
    "from captum.attr import (\n",
    "    GradientShap,\n",
    "    DeepLift,\n",
    "    IntegratedGradients\n",
    ")"
   ]
  },
  {
   "cell_type": "markdown",
   "metadata": {},
   "source": [
    "##### LOAD DATASET FROM INBUILT DATASET:"
   ]
  },
  {
   "cell_type": "code",
   "execution_count": 2,
   "metadata": {},
   "outputs": [],
   "source": [
    "def load_fashion_mnist():\n",
    "    \"\"\"\n",
    "    Loads the Fashion-MNIST dataset for both training and testing.\n",
    "    \n",
    "    Returns:\n",
    "        tuple: (train_data, test_data)\n",
    "            - train_data: FashionMNIST dataset with 60,000 training images\n",
    "            - test_data: FashionMNIST dataset with 10,000 test images\n",
    "            \n",
    "    Dataset details:\n",
    "        - Image size: 28x28 pixels (grayscale)\n",
    "        - Images are automatically normalized to [0,1] range\n",
    "        - Classes: 10 types of clothing items\n",
    "    \"\"\"\n",
    "    train_data = datasets.FashionMNIST(root='./data', train=True,\n",
    "                                      download=True, transform=transforms.ToTensor())\n",
    "\n",
    "    test_data = datasets.FashionMNIST(root='./data', train=False,\n",
    "                                     download=True, transform=transforms.ToTensor())\n",
    "\n",
    "    return train_data, test_data\n"
   ]
  },
  {
   "cell_type": "code",
   "execution_count": 3,
   "metadata": {},
   "outputs": [
    {
     "name": "stdout",
     "output_type": "stream",
     "text": [
      "Training dataset size: 60000\n",
      "Test dataset size: 10000\n"
     ]
    }
   ],
   "source": [
    "# **** BRING IN DATASET:\n",
    "train_data, test_data = load_fashion_mnist()\n",
    "print(\"Training dataset size:\", len(train_data))\n",
    "print(\"Test dataset size:\", len(test_data))"
   ]
  },
  {
   "cell_type": "code",
   "execution_count": 4,
   "metadata": {},
   "outputs": [],
   "source": [
    "# **** MODEL CONFIGURATION:\n",
    "def get_model_config(train_data):\n",
    "    \"\"\"\n",
    "    Args:\n",
    "        train_data (Dataset): Training dataset\n",
    "    Returns:\n",
    "        dict: Model configuration parameters\n",
    "    Raises:\n",
    "        ValueError: If dataset is empty or malformed\n",
    "    \"\"\"\n",
    "    if len(train_data) == 0:\n",
    "        raise ValueError(\"Empty dataset provided\")\n",
    "\n",
    "    # Validate dataset has expected attributes\n",
    "    if not hasattr(train_data, 'classes'):\n",
    "        raise ValueError(\"Dataset missing 'classes' attribute\")\n",
    "\n",
    "    # Extract first image to validate shape\n",
    "    first_image = train_data[0][0]\n",
    "    if len(first_image.shape) != 3:\n",
    "        raise ValueError(f\"Expected 3D tensor for images (got {len(first_image.shape)}D)\")\n",
    "\n",
    "    height, width = first_image.shape[1:]\n",
    "    if height != width:\n",
    "        raise ValueError(f\"Expected square images (got {height}x{width})\")\n",
    "\n",
    "    return {\n",
    "        'num_classes': len(train_data.classes),\n",
    "        'classes': train_data.classes,\n",
    "        'num_input_channels': first_image.shape[0],\n",
    "        'num_output_channels': 16,\n",
    "        'image_size': height\n",
    "    }\n"
   ]
  },
  {
   "cell_type": "code",
   "execution_count": 6,
   "metadata": {},
   "outputs": [],
   "source": [
    "# **** MODEL DEFINITION:\n",
    "class MultiClassImageClassifier(nn.Module):\n",
    "    \"\"\"\n",
    "    A Convolutional Neural Network for multi-class image classification.\n",
    "    \n",
    "    Architecture:\n",
    "        - Single convolutional layer with ReLU activation\n",
    "        - MaxPooling for dimensionality reduction\n",
    "        - Fully connected layer for final classification\n",
    "    \n",
    "    Args:\n",
    "        num_classes (int): Number of output classes for classification\n",
    "        \n",
    "    Note:\n",
    "        Assumes input images are single-channel (grayscale) with fixed dimensions\n",
    "    \"\"\"\n",
    "    \n",
    "    def __init__(self, config):\n",
    "        \"\"\"\n",
    "        Args:\n",
    "            config (dict): Configuration dictionary containing:\n",
    "                - num_classes (int)\n",
    "                - num_input_channels (int)\n",
    "                - num_output_channels (int)\n",
    "                - image_size (int)\n",
    "        \"\"\"\n",
    "        super().__init__()\n",
    "\n",
    "        self.input_channels = config['num_input_channels']\n",
    "        self.output_channels = config['num_output_channels']\n",
    "        self.image_size = config['image_size']\n",
    "\n",
    "        # Input validation\n",
    "        if not all(isinstance(v, int) for v in [self.input_channels,\n",
    "                                              self.output_channels,\n",
    "                                              self.image_size]):\n",
    "            raise ValueError(\"Channel counts and image size must be integers\")\n",
    "\n",
    "        # Architecture with better stability\n",
    "        self.conv1 = nn.Conv2d(self.input_channels, self.output_channels,\n",
    "                              kernel_size=3, stride=1, padding=1)  #Convolutional layer with padding to maintain spatial dimensions\n",
    "        self.bn1 = nn.BatchNorm2d(self.output_channels)\n",
    "        self.relu = nn.ReLU() # ReLU activation function for non-linearity\n",
    "        self.maxpool = nn.MaxPool2d(kernel_size=2, stride=2) # MaxPooling layer reduces spatial dimensions by half\n",
    "        self.dropout = nn.Dropout(0.25) \n",
    "\n",
    "        # Calculate flattened size\n",
    "        flat_size = self.output_channels * (self.image_size//2)**2 # Flatten layer to convert 3D feature maps to 1D vector\n",
    "\n",
    "        # Fully connected layer for final classification\n",
    "        self.classifier = nn.Sequential(\n",
    "            nn.Linear(flat_size, 512),\n",
    "            nn.ReLU(),\n",
    "            nn.Dropout(0.5),\n",
    "            nn.Linear(512, config['num_classes'])\n",
    "        ) # Input size accounts for maxpool's reduction of spatial dimensions\n",
    "\n",
    "    def forward(self, x):\n",
    "        \"\"\"\n",
    "        Forward pass of the network.\n",
    "        \n",
    "        Args:\n",
    "            x (torch.Tensor): Input tensor of shape [batch_size, channels, height, width]\n",
    "            \n",
    "        Returns:\n",
    "            torch.Tensor: Raw logits for each class, shape [batch_size, num_classes]\n",
    "            \n",
    "        Processing steps:\n",
    "            1. Convolution + ReLU activation\n",
    "            2. MaxPooling for spatial reduction\n",
    "            3. Flatten to 1D\n",
    "            4. Fully connected layer for classification\n",
    "        \"\"\"\n",
    "        # Input validation\n",
    "        if x.dim() != 4:\n",
    "            raise ValueError(f\"Expected 4D input (got {x.dim()}D)\")\n",
    "        if x.size(1) != self.input_channels:\n",
    "            raise ValueError(\n",
    "                f\"Expected {self.input_channels} channels (got {x.size(1)})\")\n",
    "\n",
    "        x = self.conv1(x) # Apply convolution\n",
    "        x = self.bn1(x) # Batch normalization\n",
    "        x = self.relu(x) # Apply ReLU activation\n",
    "        x = self.maxpool(x) # Reduce spatial dimensions\n",
    "        x = self.dropout(x) # Dropout for regularization\n",
    "        x = torch.flatten(x, 1) # Flatten to 1D\n",
    "        x = self.classifier(x) # Final classification layer\n",
    "        return x\n"
   ]
  },
  {
   "cell_type": "code",
   "execution_count": 7,
   "metadata": {},
   "outputs": [
    {
     "name": "stdout",
     "output_type": "stream",
     "text": [
      "Is MPS (Apple Silicon GPU) available? True\n"
     ]
    }
   ],
   "source": [
    "# **** Device architecture: Verify if CUDA is available:\n",
    "print(f\"Is MPS (Apple Silicon GPU) available? {torch.backends.mps.is_available()}\")"
   ]
  },
  {
   "cell_type": "code",
   "execution_count": 9,
   "metadata": {},
   "outputs": [],
   "source": [
    "class ModelInterpreter:\n",
    "    def __init__(self, model, device='cpu'):\n",
    "        self.model = model\n",
    "        self.device = device\n",
    "        self.model.to(device)\n",
    "        \n",
    "    def plot_confusion_matrix(self, dataloader, class_names):\n",
    "        \"\"\"Generate and plot confusion matrix\"\"\"\n",
    "        self.model.eval()\n",
    "        all_preds = []\n",
    "        all_labels = []\n",
    "        \n",
    "        with torch.no_grad():\n",
    "            for features, labels in dataloader:\n",
    "                features = features.to(self.device)\n",
    "                outputs = self.model(features)\n",
    "                _, predicted = torch.max(outputs.data, 1)\n",
    "                all_preds.extend(predicted.cpu().numpy())\n",
    "                all_labels.extend(labels.cpu().numpy())\n",
    "        \n",
    "        cm = confusion_matrix(all_labels, all_preds)\n",
    "        plt.figure(figsize=(10, 8))\n",
    "        sns.heatmap(cm, annot=True, fmt='d', cmap='Blues',\n",
    "                   xticklabels=class_names,\n",
    "                   yticklabels=class_names)\n",
    "        plt.title('Confusion Matrix')\n",
    "        plt.ylabel('True Label')\n",
    "        plt.xlabel('Predicted Label')\n",
    "        plt.show()\n",
    "        \n",
    "        return cm  # Return for further analysis if needed\n",
    "        \n",
    "    def visualize_layer_activations(self, input_tensor):\n",
    "        \"\"\"Visualize activations of convolutional layers\"\"\"\n",
    "        self.model.eval()\n",
    "        activations = {}\n",
    "        \n",
    "        def hook_fn(module, input, output):\n",
    "            activations[module] = output.detach()\n",
    "            \n",
    "        hooks = []\n",
    "        for name, module in self.model.named_modules():\n",
    "            if isinstance(module, nn.Conv2d):\n",
    "                hooks.append(module.register_forward_hook(hook_fn))\n",
    "                \n",
    "        with torch.no_grad():\n",
    "            self.model(input_tensor)\n",
    "            \n",
    "        for hook in hooks:\n",
    "            hook.remove()\n",
    "            \n",
    "        fig, axes = plt.subplots(len(activations), 4, figsize=(12, 3*len(activations)))\n",
    "        for idx, (layer, activation) in enumerate(activations.items()):\n",
    "            for j in range(min(4, activation.size(1))):\n",
    "                if len(activations) == 1:\n",
    "                    ax = axes[j]\n",
    "                else:\n",
    "                    ax = axes[idx, j]\n",
    "                ax.imshow(activation[0, j].cpu(), cmap='viridis')\n",
    "                ax.axis('off')\n",
    "                ax.set_title(f'Layer {idx+1}, Channel {j+1}')\n",
    "        plt.tight_layout()\n",
    "        plt.show()\n",
    "        \n",
    "    def analyze_prediction_confidence(self, dataloader):\n",
    "        \"\"\"Analyze model's prediction confidence\"\"\"\n",
    "        self.model.eval()\n",
    "        confidences = []\n",
    "        correct_predictions = []\n",
    "        \n",
    "        with torch.no_grad():\n",
    "            for features, labels in dataloader:\n",
    "                features = features.to(self.device)\n",
    "                outputs = self.model(features)\n",
    "                probabilities = torch.softmax(outputs, dim=1)\n",
    "                confidence, predicted = torch.max(probabilities, dim=1)\n",
    "                confidences.extend(confidence.cpu().numpy())\n",
    "                correct_predictions.extend((predicted == labels.to(self.device)).cpu().numpy())\n",
    "        \n",
    "        confidences = np.array(confidences)\n",
    "        correct_predictions = np.array(correct_predictions)\n",
    "        \n",
    "        plt.figure(figsize=(10, 5))\n",
    "        plt.hist([confidences[correct_predictions], confidences[~correct_predictions]], \n",
    "                label=['Correct', 'Incorrect'], bins=20, alpha=0.7)\n",
    "        plt.xlabel('Confidence')\n",
    "        plt.ylabel('Count')\n",
    "        plt.title('Prediction Confidence Distribution')\n",
    "        plt.legend()\n",
    "        plt.show()\n",
    "        \n",
    "        results = {\n",
    "            'correct_confidence': confidences[correct_predictions].mean(),\n",
    "            'incorrect_confidence': confidences[~correct_predictions].mean() if len(confidences[~correct_predictions]) > 0 else 0,\n",
    "            'overall_confidence': confidences.mean()\n",
    "        }\n",
    "        \n",
    "        return results\n",
    "\n",
    "class TrainingPipeline:\n",
    "    def __init__(self, model_class, train_data, test_data, batch_size=10):\n",
    "        \"\"\"\n",
    "        Initialize training pipeline with model configuration validation\n",
    "        \n",
    "        Args:\n",
    "            model_class: The model class to instantiate\n",
    "            train_data: Training dataset\n",
    "            test_data: Test dataset\n",
    "            batch_size: Batch size for data loaders\n",
    "        \"\"\"\n",
    "        # model configuration settings\n",
    "        self.config = get_model_config(train_data)\n",
    "\n",
    "        # Setting up device\n",
    "        self.device = torch.device('mps' if torch.backends.mps.is_available()\n",
    "                                 else 'cuda' if torch.cuda.is_available()\n",
    "                                 else 'cpu')\n",
    "\n",
    "        # Initialize model with validated configuration\n",
    "        self.model = model_class(self.config).to(self.device)\n",
    "\n",
    "        # Create data loaders\n",
    "        self.train_loader = DataLoader(\n",
    "            train_data,\n",
    "            batch_size=batch_size,\n",
    "            shuffle=True\n",
    "        )\n",
    "\n",
    "        self.interpreter = None\n",
    "\n",
    "        self.test_loader = DataLoader(\n",
    "            test_data,\n",
    "            batch_size=batch_size,\n",
    "            shuffle=False\n",
    "        )\n",
    "\n",
    "        # Initialize metrics using configuration\n",
    "        self.accuracy_metric = Accuracy(task='multiclass',\n",
    "                                      num_classes=self.config['num_classes']).to(self.device)\n",
    "        self.precision_metric = Precision(task='multiclass',\n",
    "                                        num_classes=self.config['num_classes'],\n",
    "                                        average=None).to(self.device)\n",
    "        self.recall_metric = Recall(task='multiclass',\n",
    "                                  num_classes=self.config['num_classes'],\n",
    "                                  average=None).to(self.device)\n",
    "\n",
    "        # Store configuration parameters\n",
    "        self.image_size = self.config['image_size']\n",
    "        self.num_input_channels = self.config['num_input_channels']\n",
    "\n",
    "        print(f\"Initialized pipeline with configuration:\")\n",
    "        print(f\"- Number of classes: {self.config['num_classes']}\")\n",
    "        print(f\"- Image size: {self.image_size}x{self.image_size}\")\n",
    "        print(f\"- Input channels: {self.num_input_channels}\")\n",
    "        print(f\"- Device: {self.device}\")\n",
    "\n",
    "    def train(self, num_epochs=10, learning_rate=0.001):\n",
    "        \"\"\"Training loop with progress tracking\"\"\"\n",
    "        optimizer = optim.Adam(self.model.parameters(), lr=learning_rate)\n",
    "        criterion = nn.CrossEntropyLoss()\n",
    "        history = {'train_loss': [], 'train_accuracy': []}\n",
    "        \n",
    "        print(f\"Training on: {next(self.model.parameters()).device}\")\n",
    "        \n",
    "        for epoch in range(num_epochs):\n",
    "            self.model.train()\n",
    "            running_loss = 0.0\n",
    "            num_samples = 0\n",
    "            \n",
    "            progress_bar = tqdm.tqdm(self.train_loader,\n",
    "                              desc=f'Epoch {epoch+1}/{num_epochs}')\n",
    "            \n",
    "            for features, labels in progress_bar:\n",
    "                # Move batch to device\n",
    "                features = features.to(self.device)\n",
    "                labels = labels.to(self.device)\n",
    "                \n",
    "                # Ensure correct shape based on configuration\n",
    "                if features.dim() == 3:\n",
    "                    features = features.reshape(-1, self.num_input_channels,\n",
    "                                             self.image_size, self.image_size)\n",
    "                \n",
    "                optimizer.zero_grad()\n",
    "                outputs = self.model(features)\n",
    "                loss = criterion(outputs, labels)\n",
    "                loss.backward()\n",
    "                optimizer.step()\n",
    "                \n",
    "                batch_size = labels.size(0)\n",
    "                running_loss += loss.item() * batch_size\n",
    "                num_samples += batch_size\n",
    "                \n",
    "                # Update progress bar\n",
    "                progress_bar.set_postfix({\n",
    "                    'loss': f'{running_loss/num_samples:.4f}'\n",
    "                })\n",
    "            \n",
    "            # Compute epoch metrics\n",
    "            epoch_loss = running_loss / num_samples\n",
    "            history['train_loss'].append(epoch_loss)\n",
    "            \n",
    "            # Evaluate after each epoch\n",
    "            accuracy = self.evaluate(mode='train')\n",
    "            history['train_accuracy'].append(accuracy)\n",
    "            \n",
    "            print(f'Epoch {epoch+1}/{num_epochs} - '\n",
    "                  f'Loss: {epoch_loss:.4f} - '\n",
    "                  f'Accuracy: {accuracy:.4f}')\n",
    "        \n",
    "        return history\n",
    "\n",
    "    def initialize_interpreter(self):\n",
    "        \"\"\"Initialize the model interpreter after training\"\"\"\n",
    "        self.interpreter = ModelInterpreter(self.model, self.device)\n",
    "\n",
    "    def analyze_model(self, sample_batch=None):\n",
    "        \"\"\"\n",
    "        Comprehensive model analysis after training\n",
    "        \n",
    "        Args:\n",
    "            sample_batch: Optional batch of data for activation visualization\n",
    "        \"\"\"\n",
    "        if self.interpreter is None:\n",
    "            self.initialize_interpreter()\n",
    "            \n",
    "        # 1. Confusion Matrix Analysis\n",
    "        print(\"\\n=== Confusion Matrix Analysis ===\")\n",
    "        cm = self.interpreter.plot_confusion_matrix(self.test_loader, self.config['classes'])\n",
    "        \n",
    "        # 2. Prediction Confidence Analysis\n",
    "        print(\"\\n=== Prediction Confidence Analysis ===\")\n",
    "        confidence_results = self.interpreter.analyze_prediction_confidence(self.test_loader)\n",
    "        print(f\"Average confidence for correct predictions: {confidence_results['correct_confidence']:.3f}\")\n",
    "        print(f\"Average confidence for incorrect predictions: {confidence_results['incorrect_confidence']:.3f}\")\n",
    "        print(f\"Overall average confidence: {confidence_results['overall_confidence']:.3f}\")\n",
    "        \n",
    "        # 3. Layer Activation Visualization (if sample provided)\n",
    "        if sample_batch is not None:\n",
    "            print(\"\\n=== Layer Activation Visualization ===\")\n",
    "            features, _ = next(iter(sample_batch))\n",
    "            features = features.to(self.device)\n",
    "            self.interpreter.visualize_layer_activations(features[:1])  # Use first sample\n",
    "            \n",
    "        return {\n",
    "            'confusion_matrix': cm,\n",
    "            'confidence_results': confidence_results\n",
    "        }\n",
    "\n",
    "    def interpret_prediction(self, input_tensor, target_class):\n",
    "        \"\"\"\n",
    "        Interpret a specific prediction using multiple attribution methods\n",
    "        \"\"\"\n",
    "        if self.interpreter is None:\n",
    "            self.initialize_interpreter()\n",
    "            \n",
    "        input_tensor = input_tensor.to(self.device)\n",
    "        input_tensor.requires_grad_()\n",
    "        \n",
    "        # Initialize attribution methods\n",
    "        integrated_gradients = IntegratedGradients(self.model)\n",
    "        deeplift = DeepLift(self.model)\n",
    "        gradient_shap = GradientShap(self.model)\n",
    "\n",
    "        # Create baseline\n",
    "        baseline = torch.zeros_like(input_tensor)\n",
    "        \n",
    "        # Compute attributions\n",
    "        ig_attr = integrated_gradients.attribute(input_tensor, target=target_class)\n",
    "        dl_attr = deeplift.attribute(input_tensor, target=target_class)\n",
    "        gs_attr = gradient_shap.attribute(input_tensor, baselines=baseline, target=target_class)\n",
    "        \n",
    "        # Visualize attributions\n",
    "        fig, axes = plt.subplots(1, 3, figsize=(15, 5))\n",
    "        \n",
    "        methods = ['Integrated Gradients', 'DeepLift', 'GradientShap']\n",
    "        attributions = [ig_attr, dl_attr, gs_attr]\n",
    "        \n",
    "        for idx, (method, attr) in enumerate(zip(methods, attributions)):\n",
    "            attr = attr.squeeze().cpu().detach().numpy()\n",
    "            vmax = np.abs(attr).max()\n",
    "            im = axes[idx].imshow(attr, cmap='seismic', vmin=-vmax, vmax=vmax)\n",
    "            axes[idx].set_title(method)\n",
    "            axes[idx].axis('off')\n",
    "            plt.colorbar(im, ax=axes[idx])\n",
    "            \n",
    "        plt.tight_layout()\n",
    "        plt.show()\n",
    "        \n",
    "        return {\n",
    "            'integrated_gradients': ig_attr,\n",
    "            'deeplift': dl_attr,\n",
    "            'gradient_shap': gs_attr\n",
    "        }\n",
    "    \n",
    "    def evaluate(self, mode='test'):\n",
    "        \"\"\"Evaluation with multiple metrics\"\"\"\n",
    "        self.model.eval()\n",
    "        loader = self.test_loader if mode == 'test' else self.train_loader\n",
    "        \n",
    "        with torch.no_grad():\n",
    "            for features, labels in loader:\n",
    "                features = features.to(self.device)\n",
    "                labels = labels.to(self.device)\n",
    "                \n",
    "                # Ensure correct shape based on configuration\n",
    "                if features.dim() == 3:\n",
    "                    features = features.reshape(-1, self.num_input_channels,\n",
    "                                             self.image_size, self.image_size)\n",
    "                \n",
    "                outputs = self.model(features)\n",
    "                predictions = torch.argmax(outputs, dim=-1)\n",
    "                \n",
    "                self.accuracy_metric(predictions, labels)\n",
    "                self.precision_metric(predictions, labels)\n",
    "                self.recall_metric(predictions, labels)\n",
    "        \n",
    "        # Compute final metrics\n",
    "        metrics = {\n",
    "            'accuracy': self.accuracy_metric.compute().item(),\n",
    "            'precision': self.precision_metric.compute().tolist(),\n",
    "            'recall': self.recall_metric.compute().tolist()\n",
    "        }\n",
    "        \n",
    "        # Reset metrics for next evaluation\n",
    "        self.accuracy_metric.reset()\n",
    "        self.precision_metric.reset()\n",
    "        self.recall_metric.reset()\n",
    "        \n",
    "        return metrics['accuracy'] if mode == 'train' else metrics\n",
    "\n",
    "    def get_class_names(self):\n",
    "        \"\"\"Return the class names from configuration\"\"\"\n",
    "        return self.config['classes']"
   ]
  },
  {
   "cell_type": "code",
   "execution_count": 10,
   "metadata": {},
   "outputs": [
    {
     "name": "stdout",
     "output_type": "stream",
     "text": [
      "Initialized pipeline with configuration:\n",
      "- Number of classes: 10\n",
      "- Image size: 28x28\n",
      "- Input channels: 1\n",
      "- Device: mps\n",
      "Training on: mps:0\n"
     ]
    },
    {
     "name": "stderr",
     "output_type": "stream",
     "text": [
      "Epoch 1/10: 100%|██████████| 6000/6000 [00:39<00:00, 150.62it/s, loss=0.4835]\n"
     ]
    },
    {
     "name": "stdout",
     "output_type": "stream",
     "text": [
      "Epoch 1/10 - Loss: 0.4835 - Accuracy: 0.8899\n"
     ]
    },
    {
     "name": "stderr",
     "output_type": "stream",
     "text": [
      "Epoch 2/10: 100%|██████████| 6000/6000 [00:34<00:00, 173.60it/s, loss=0.3567]\n"
     ]
    },
    {
     "name": "stdout",
     "output_type": "stream",
     "text": [
      "Epoch 2/10 - Loss: 0.3567 - Accuracy: 0.9012\n"
     ]
    },
    {
     "name": "stderr",
     "output_type": "stream",
     "text": [
      "Epoch 3/10: 100%|██████████| 6000/6000 [00:36<00:00, 166.40it/s, loss=0.3172]\n"
     ]
    },
    {
     "name": "stdout",
     "output_type": "stream",
     "text": [
      "Epoch 3/10 - Loss: 0.3172 - Accuracy: 0.9202\n"
     ]
    },
    {
     "name": "stderr",
     "output_type": "stream",
     "text": [
      "Epoch 4/10: 100%|██████████| 6000/6000 [00:35<00:00, 167.25it/s, loss=0.2918]\n"
     ]
    },
    {
     "name": "stdout",
     "output_type": "stream",
     "text": [
      "Epoch 4/10 - Loss: 0.2918 - Accuracy: 0.9249\n"
     ]
    },
    {
     "name": "stderr",
     "output_type": "stream",
     "text": [
      "Epoch 5/10: 100%|██████████| 6000/6000 [00:38<00:00, 156.00it/s, loss=0.2770]\n"
     ]
    },
    {
     "name": "stdout",
     "output_type": "stream",
     "text": [
      "Epoch 5/10 - Loss: 0.2770 - Accuracy: 0.9344\n"
     ]
    },
    {
     "name": "stderr",
     "output_type": "stream",
     "text": [
      "Epoch 6/10: 100%|██████████| 6000/6000 [00:36<00:00, 164.54it/s, loss=0.2607]\n"
     ]
    },
    {
     "name": "stdout",
     "output_type": "stream",
     "text": [
      "Epoch 6/10 - Loss: 0.2607 - Accuracy: 0.9352\n"
     ]
    },
    {
     "name": "stderr",
     "output_type": "stream",
     "text": [
      "Epoch 7/10: 100%|██████████| 6000/6000 [00:38<00:00, 155.33it/s, loss=0.2514]\n"
     ]
    },
    {
     "name": "stdout",
     "output_type": "stream",
     "text": [
      "Epoch 7/10 - Loss: 0.2514 - Accuracy: 0.9406\n"
     ]
    },
    {
     "name": "stderr",
     "output_type": "stream",
     "text": [
      "Epoch 8/10: 100%|██████████| 6000/6000 [00:34<00:00, 174.98it/s, loss=0.2439]\n"
     ]
    },
    {
     "name": "stdout",
     "output_type": "stream",
     "text": [
      "Epoch 8/10 - Loss: 0.2439 - Accuracy: 0.9379\n"
     ]
    },
    {
     "name": "stderr",
     "output_type": "stream",
     "text": [
      "Epoch 9/10: 100%|██████████| 6000/6000 [00:34<00:00, 175.73it/s, loss=0.2325]\n"
     ]
    },
    {
     "name": "stdout",
     "output_type": "stream",
     "text": [
      "Epoch 9/10 - Loss: 0.2325 - Accuracy: 0.9485\n"
     ]
    },
    {
     "name": "stderr",
     "output_type": "stream",
     "text": [
      "Epoch 10/10: 100%|██████████| 6000/6000 [00:34<00:00, 176.30it/s, loss=0.2264]\n"
     ]
    },
    {
     "name": "stdout",
     "output_type": "stream",
     "text": [
      "Epoch 10/10 - Loss: 0.2264 - Accuracy: 0.9492\n",
      "Test Accuracy: 0.9115\n",
      "Class names: ['T-shirt/top', 'Trouser', 'Pullover', 'Dress', 'Coat', 'Sandal', 'Shirt', 'Sneaker', 'Bag', 'Ankle boot']\n",
      "Precision per class: [0.8639523386955261, 0.9959225058555603, 0.8233082890510559, 0.9003831148147583, 0.8531187176704407, 0.9849094748497009, 0.7726269364356995, 0.9632206559181213, 0.9859437942504883, 0.966269850730896]\n",
      "Recall per class: [0.8700000047683716, 0.9769999980926514, 0.8759999871253967, 0.9399999976158142, 0.8479999899864197, 0.9789999723434448, 0.699999988079071, 0.968999981880188, 0.9819999933242798, 0.9739999771118164]\n"
     ]
    }
   ],
   "source": [
    "# Initialize pipeline with model class\n",
    "pipeline = TrainingPipeline(\n",
    "    model_class=MultiClassImageClassifier,\n",
    "    train_data=train_data,\n",
    "    test_data=test_data\n",
    ")\n",
    "\n",
    "# Train model\n",
    "history = pipeline.train(num_epochs=10)\n",
    "\n",
    "# Evaluate on test set\n",
    "test_metrics = pipeline.evaluate()\n",
    "print(f\"Test Accuracy: {test_metrics['accuracy']:.4f}\")\n",
    "print(\"Class names:\", pipeline.get_class_names())\n",
    "print(\"Precision per class:\", test_metrics['precision'])\n",
    "print(\"Recall per class:\", test_metrics['recall'])"
   ]
  },
  {
   "cell_type": "code",
   "execution_count": 13,
   "metadata": {},
   "outputs": [
    {
     "name": "stdout",
     "output_type": "stream",
     "text": [
      "\n",
      "=== Confusion Matrix Analysis ===\n"
     ]
    },
    {
     "data": {
      "image/png": "[encoded data removed]",
      "text/plain": [
       "<Figure size 1000x800 with 2 Axes>"
      ]
     },
     "metadata": {},
     "output_type": "display_data"
    },
    {
     "name": "stdout",
     "output_type": "stream",
     "text": [
      "\n",
      "=== Prediction Confidence Analysis ===\n"
     ]
    },
    {
     "data": {
      "image/png": "[encoded data removed]",
      "text/plain": [
       "<Figure size 1000x500 with 1 Axes>"
      ]
     },
     "metadata": {},
     "output_type": "display_data"
    },
    {
     "name": "stdout",
     "output_type": "stream",
     "text": [
      "Average confidence for correct predictions: 0.953\n",
      "Average confidence for incorrect predictions: 0.699\n",
      "Overall average confidence: 0.930\n"
     ]
    }
   ],
   "source": [
    "analysis_results = pipeline.analyze_model()"
   ]
  },
  {
   "cell_type": "markdown",
   "metadata": {},
   "source": [
    "#### ANALYSIS OF PRELIMINARY RESULTS: \n",
    "\n",
    "**Most categories show strong diagonal values (correct predictions), particularly:**\n",
    "\n",
    "Ankle boots (971 correct)\n",
    "Trouser (958 correct)\n",
    "Bag (963 correct)\n",
    "Sandal (970 correct)\n",
    "\n",
    "\n",
    "\n",
    "##### Notable Confusion Patterns:\n",
    "\n",
    "**Shirt-related confusions:**\n",
    "\n",
    "T-shirt/top is often confused with Shirt (64 cases)\n",
    "Shirt is frequently mistaken for T-shirt/top (156 cases)\n",
    "This suggests the model has difficulty distinguishing between different types of upper body garments\n",
    "\n",
    "\n",
    "**Upper garment mix-ups:**\n",
    "\n",
    "Pullover, Coat, and Shirt show mutual confusion\n",
    "Pullover is mistaken for Coat (86 cases) and Shirt (83 cases)\n",
    "Coat is confused with Shirt (88 cases)\n",
    "\n",
    "\n",
    "**Footwear distinctions:**\n",
    "\n",
    "Sneaker and Ankle boot show some mutual confusion (24/60 cases)\n",
    "Sandal is well-distinguished from other footwear\n",
    "\n",
    "\n",
    "\n",
    "**Overall Assessment:**\n",
    "\n",
    "The model performs quite well, with strong diagonal values indicating good accuracy\n",
    "Most confusions occur between visually similar categories (e.g., different types of tops)\n",
    "The model is particularly good at identifying distinct categories like bags and trousers\n",
    "The main area for improvement would be better discrimination between similar upper body garments"
   ]
  },
  {
   "cell_type": "markdown",
   "metadata": {},
   "source": [
    "#### PLANNED IMPROVEMENT OF MODEL: \n",
    "\n",
    "**Attention Mechanism Implementation:**\n",
    "\n",
    "This would specifically help with the T-shirt/Shirt/Pullover/Coat confusion (your largest source of errors)\n",
    "The attention layer can learn to focus on discriminative features like:\n",
    "\n",
    "Collar details (distinguish T-shirts from shirts)\n",
    "Fabric texture patterns (separate pullovers from coats)\n",
    "Sleeve structures (differentiate between all upper body garments)\n",
    "\n",
    "**Focal Loss Implementation:**\n",
    "\n",
    "This would help the model focus on the hard-to-classify examples\n",
    "Particularly useful since your confusion matrix shows most classes are well-classified except for specific challenging cases\n",
    "The gamma parameter can be tuned based on your specific confusion patterns"
   ]
  }
 ],
 "metadata": {
  "kernelspec": {
   "display_name": "clothing_env",
   "language": "python",
   "name": "python3"
  },
  "language_info": {
   "codemirror_mode": {
    "name": "ipython",
    "version": 3
   },
   "file_extension": ".py",
   "mimetype": "text/x-python",
   "name": "python",
   "nbconvert_exporter": "python",
   "pygments_lexer": "ipython3",
   "version": "3.12.4"
  }
 },
 "nbformat": 4,
 "nbformat_minor": 2
}
